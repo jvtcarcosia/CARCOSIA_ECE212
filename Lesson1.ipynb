{
 "cells": [
  {
   "cell_type": "markdown",
   "metadata": {},
   "source": [
    "# Lesson 1"
   ]
  },
  {
   "cell_type": "markdown",
   "metadata": {},
   "source": [
    "## Abstraction"
   ]
  },
  {
   "cell_type": "markdown",
   "metadata": {},
   "source": [
    "### The Phyton Programming Language"
   ]
  },
  {
   "cell_type": "markdown",
   "metadata": {},
   "source": [
    "is a high level language like C++, PHP and Java which is certainly much advantageous compared to low level language.\n",
    "Two kinds of programs process high-level languages into low-level languages: interpreters and compilers. An interpreter reads a high-level program and executes it, meaning that it does what the program says. It processes the program a little at a time, alternately reading lines and performing computations. A compiler reads the program and translates it completely before the program starts running. In this case, the high-level program is called the source code, and the translated program is called the object code or the executable. Once a program is compiled, you can execute it repeatedly without further translation."
   ]
  },
  {
   "cell_type": "markdown",
   "metadata": {},
   "source": [
    "#### More about Programs"
   ]
  },
  {
   "cell_type": "markdown",
   "metadata": {},
   "source": [
    "A program is a sequence of instructions that specifies how to perform a computation. It can be as complex as creating an html page or web page that has encoded video or streaming a video across the networks. The details look different in different languages, but a few basic instructions appear in just about every language."
   ]
  },
  {
   "cell_type": "markdown",
   "metadata": {},
   "source": [
    "##### input"
   ]
  },
  {
   "cell_type": "markdown",
   "metadata": {},
   "source": [
    "Get data from the keyboard, a file, or some other device."
   ]
  },
  {
   "cell_type": "markdown",
   "metadata": {},
   "source": [
    "##### output"
   ]
  },
  {
   "cell_type": "markdown",
   "metadata": {},
   "source": [
    "Display data on the screen or send data to a file or other device."
   ]
  },
  {
   "cell_type": "markdown",
   "metadata": {},
   "source": [
    "##### math and logic"
   ]
  },
  {
   "cell_type": "markdown",
   "metadata": {},
   "source": [
    "Perform basic mathematical operations like addition and multiplication and logical operations like and, or, and not."
   ]
  },
  {
   "cell_type": "markdown",
   "metadata": {},
   "source": [
    "##### conditional execution"
   ]
  },
  {
   "cell_type": "markdown",
   "metadata": {},
   "source": [
    "Check for certain conditions and execute the appropriate sequence of statements."
   ]
  },
  {
   "cell_type": "markdown",
   "metadata": {},
   "source": [
    "##### repetition"
   ]
  },
  {
   "cell_type": "markdown",
   "metadata": {},
   "source": [
    "Perform some action repeatedly, usually with some variation."
   ]
  },
  {
   "cell_type": "markdown",
   "metadata": {},
   "source": [
    "#### Review of Control Structure"
   ]
  },
  {
   "cell_type": "markdown",
   "metadata": {},
   "source": [
    "First we have structures that allow us to iterate over something. We can look at strings character-by-character or lists item-by-item until we’ve reached the end of them by using something called a for loop."
   ]
  },
  {
   "cell_type": "code",
   "execution_count": 4,
   "metadata": {},
   "outputs": [
    {
     "ename": "SyntaxError",
     "evalue": "invalid syntax (<ipython-input-4-390cffdb3e11>, line 1)",
     "output_type": "error",
     "traceback": [
      "\u001b[0;36m  File \u001b[0;32m\"<ipython-input-4-390cffdb3e11>\"\u001b[0;36m, line \u001b[0;32m1\u001b[0m\n\u001b[0;31m    for character \"Cool string\":\u001b[0m\n\u001b[0m                              ^\u001b[0m\n\u001b[0;31mSyntaxError\u001b[0m\u001b[0;31m:\u001b[0m invalid syntax\n"
     ]
    }
   ],
   "source": [
    "for character \"Cool string\":\n",
    "print(character)"
   ]
  },
  {
   "cell_type": "markdown",
   "metadata": {},
   "source": [
    "We can also iterate without a definite stopping point with while loops. You might use this if you want to receive input from the user of your program but you don’t know how long it’ll take for them to be done with your code."
   ]
  },
  {
   "cell_type": "code",
   "execution_count": 14,
   "metadata": {},
   "outputs": [
    {
     "ename": "IndentationError",
     "evalue": "expected an indented block (<ipython-input-14-f2e76340e605>, line 3)",
     "output_type": "error",
     "traceback": [
      "\u001b[0;36m  File \u001b[0;32m\"<ipython-input-14-f2e76340e605>\"\u001b[0;36m, line \u001b[0;32m3\u001b[0m\n\u001b[0;31m    grocery_item = input(\"Please write down an item to add to your grocery list. When you are done writing the list simply type: done\")\u001b[0m\n\u001b[0m               ^\u001b[0m\n\u001b[0;31mIndentationError\u001b[0m\u001b[0;31m:\u001b[0m expected an indented block\n"
     ]
    }
   ],
   "source": [
    "grocery_item = \"\"\n",
    "while grocery_item != \"done\":\n",
    "grocery_item = input(\"Please write down an item to add to your grocery list. When you are done writing the list simply type: done\")\n",
    "print(grocery_item)"
   ]
  },
  {
   "cell_type": "markdown",
   "metadata": {},
   "source": [
    "Other structures will allow us to only run parts of our programs or only do some task if a certain set of conditions are found. Conditionals, as they’re called, allow us to do that. Check out how adding conditionals to our code can change what we can write about regarding grocery shopping."
   ]
  },
  {
   "cell_type": "code",
   "execution_count": 11,
   "metadata": {},
   "outputs": [
    {
     "ename": "SyntaxError",
     "evalue": "'continue' not properly in loop (<ipython-input-11-dad39a26b05d>, line 8)",
     "output_type": "error",
     "traceback": [
      "\u001b[0;36m  File \u001b[0;32m\"<ipython-input-11-dad39a26b05d>\"\u001b[0;36m, line \u001b[0;32m8\u001b[0m\n\u001b[0;31m    print(\"Here is our grocery list:\")\u001b[0m\n\u001b[0m               ^\u001b[0m\n\u001b[0;31mSyntaxError\u001b[0m\u001b[0;31m:\u001b[0m 'continue' not properly in loop\n"
     ]
    }
   ],
   "source": [
    "grocery_item = \"\"\n",
    "grocery_list = []\n",
    "while grocery_item != \"done\": grocery_item = input(\"Please write down an item to add to your grocery list. When you are done writing the list then simply type: done\")\n",
    "if grocery_item == 'done':\n",
    "    continue\n",
    "else: print(\"adding the item to the list\")\n",
    "grocery_list.append(grocery_item)\n",
    "print(\"Here is our grocery list:\")\n",
    "print(grocery_list)"
   ]
  },
  {
   "cell_type": "markdown",
   "metadata": {},
   "source": [
    "#### Formal and Natural Languages"
   ]
  },
  {
   "cell_type": "markdown",
   "metadata": {},
   "source": [
    "##### Natural Languages"
   ]
  },
  {
   "cell_type": "markdown",
   "metadata": {},
   "source": [
    "languages that people speak, such as English, Spanish, Korean, and Mandarin Chinese. They were not designed by people (although people try to impose some order on them); they evolved naturally."
   ]
  },
  {
   "cell_type": "markdown",
   "metadata": {},
   "source": [
    "##### Formal Languages"
   ]
  },
  {
   "cell_type": "markdown",
   "metadata": {},
   "source": [
    "languages that are designed by people for specific applications. For example, the notation that mathematicians use is a formal language that is particularly good at denoting relationships among numbers and symbols.\n",
    "\n",
    "Programming languages are formal languages that have been designed to express computations. Formal languages tend to have strict rules about syntax. For example, 3+3=6 is a syntactically correct mathematical statement, but 3=+6$ is not. H2O is a syntactically correct chemical name, but 2Zz is not."
   ]
  },
  {
   "cell_type": "markdown",
   "metadata": {},
   "source": [
    "* program\n",
    "\n",
    " The meaning of a computer program is unambiguous and literal, and\n",
    "can be understood entirely by analysis of the tokens and structure."
   ]
  },
  {
   "cell_type": "markdown",
   "metadata": {},
   "source": [
    "#### A Typical First Program"
   ]
  },
  {
   "cell_type": "markdown",
   "metadata": {},
   "source": [
    "Traditionally, the first program written in a new language is called Hello, World! because all it does is display the words, Hello, World! In Python, the source code looks like this."
   ]
  },
  {
   "cell_type": "code",
   "execution_count": 1,
   "metadata": {},
   "outputs": [
    {
     "name": "stdout",
     "output_type": "stream",
     "text": [
      "Hello, World!\n"
     ]
    }
   ],
   "source": [
    "print(\"Hello, World!\");"
   ]
  },
  {
   "cell_type": "markdown",
   "metadata": {},
   "source": [
    "This is an example of using the print function, which doesn’t actually print anything on paper. It displays a value on the screen. In this case, the result is the phrase:"
   ]
  },
  {
   "cell_type": "markdown",
   "metadata": {},
   "source": [
    "Hello, World!"
   ]
  },
  {
   "cell_type": "markdown",
   "metadata": {},
   "source": [
    "#### Comments"
   ]
  },
  {
   "cell_type": "markdown",
   "metadata": {},
   "source": [
    "A comment in a computer program is text that is intended only for the human reader - it is completely ignored by the interpreter. In Python, the # token starts a comment. The rest of the line is ignored."
   ]
  },
  {
   "cell_type": "code",
   "execution_count": 2,
   "metadata": {},
   "outputs": [
    {
     "name": "stdout",
     "output_type": "stream",
     "text": [
      "Hello, World!\n"
     ]
    }
   ],
   "source": [
    "#---------------------------------------------------\n",
    "# This demo program shows off how elegant Python is!\n",
    "# Written by Joe Soap, December 2010.\n",
    "# Anyone may freely copy or modify this program.\n",
    "#---------------------------------------------------\n",
    "print(\"Hello, World!\") # Isn't this easy!"
   ]
  },
  {
   "cell_type": "markdown",
   "metadata": {},
   "source": [
    "## Application"
   ]
  },
  {
   "cell_type": "markdown",
   "metadata": {},
   "source": [
    "### Ask Yourself:"
   ]
  },
  {
   "cell_type": "markdown",
   "metadata": {},
   "source": [
    " 1.Why do you think Python is the most applicable programming language for scientific computing?\n",
    "* I think that phyton is the most applicable programming language for scientific computing because it is the most commonly used language in programming machines and AI which it easy to learn since a lot of people are using this language."
   ]
  },
  {
   "cell_type": "markdown",
   "metadata": {},
   "source": [
    "2.If Python can build anything, where do you think Python is not applicable for?\n",
    "* I think that phyton is not applicable for anything that a natural language can be used. Since phyton is a formal language that is designed for a specific application, that means that it would have a problem to apply its uses/function in a general sense/application. Formal languages have rules that sets the limit of its specificality that's why errors are not easily ignored by the program so it would be hard to develop abstract applications like having emotions or going beyond errors."
   ]
  },
  {
   "cell_type": "markdown",
   "metadata": {},
   "source": [
    "### Exercise 1: Mailing Address (Solved, 9 Lines)"
   ]
  },
  {
   "cell_type": "markdown",
   "metadata": {},
   "source": [
    "Create a program that displays your name and complete mailing address. The address should be printed in the format that is normally used in the area where you live. Your program does not need to read any input from the user."
   ]
  },
  {
   "cell_type": "code",
   "execution_count": 15,
   "metadata": {},
   "outputs": [
    {
     "name": "stdout",
     "output_type": "stream",
     "text": [
      "Joi Vince T. Carcosia\n",
      "P-2 Riverside District\n",
      "Espiritu Street\n",
      "Mangagoy\n",
      "Bislig City\n",
      "Surigao del Sur\n",
      "Caraga Region\n",
      "Mindanao\n",
      "Philippines\n"
     ]
    }
   ],
   "source": [
    "print(\"Joi Vince T. Carcosia\")\n",
    "print(\"P-2 Riverside District\")\n",
    "print(\"Espiritu Street\")\n",
    "print(\"Mangagoy\")\n",
    "print(\"Bislig City\")\n",
    "print(\"Surigao del Sur\")\n",
    "print(\"Caraga Region\")\n",
    "print(\"Mindanao\")\n",
    "print(\"Philippines\")"
   ]
  },
  {
   "cell_type": "markdown",
   "metadata": {},
   "source": [
    "### Exercise 2: Area of a Room (Solved, 13 Lines)"
   ]
  },
  {
   "cell_type": "markdown",
   "metadata": {},
   "source": [
    "Write a program that asks the user to enter the width and length of a room. Once these values have been read, your program should compute and display the area of the room. The length and the width will be entered as floating-point numbers. Include units in your prompt and output message; either feet or meters, depending on which unit you are more comfortable working with."
   ]
  },
  {
   "cell_type": "code",
   "execution_count": 22,
   "metadata": {},
   "outputs": [
    {
     "name": "stdout",
     "output_type": "stream",
     "text": [
      "Enter the length in meters:12\n",
      "Enter the width in meters:13\n",
      "The area of the room is: 156.0 m\n"
     ]
    }
   ],
   "source": [
    "length = float(input(\"Enter the length in meters:\"))\n",
    "width = float(input(\"Enter the width in meters:\"))\n",
    "area = length * width\n",
    "print(\"The area of the room is:\", area, \"m\")"
   ]
  },
  {
   "cell_type": "markdown",
   "metadata": {},
   "source": [
    "### Exercise 3: Arithmetic (Solved, 22 Lines)"
   ]
  },
  {
   "cell_type": "markdown",
   "metadata": {},
   "source": [
    "Create a program that reads two integers, a and b, from the user. Your program should\n",
    "compute and display:\n",
    "\n",
    "• The sum of a and b\n",
    "\n",
    "• The difference when b is subtracted from a\n",
    "\n",
    "• The product of a and b\n",
    "\n",
    "• The quotient when a is divided by b\n",
    "\n",
    "• The remainder when a is divided by b\n",
    "\n",
    "• The result of log10 a\n",
    "\n",
    "• The result of ab\n"
   ]
  },
  {
   "cell_type": "code",
   "execution_count": 35,
   "metadata": {},
   "outputs": [
    {
     "name": "stdout",
     "output_type": "stream",
     "text": [
      "Value of a: 3\n",
      "Value of b: 2\n",
      "The sum of a and b is 5.0\n",
      "The difference when b is subtracted from a is 1.0\n",
      "The product of a and b is 6.0\n",
      "The quotient when a is divided by b is 1.5\n",
      "The remainder when a is divided by b is 1.0\n",
      "The result of log10 a is 0.47712125471966244\n",
      "The result of ab is 0.7781512503836436\n"
     ]
    }
   ],
   "source": [
    "import math\n",
    "a = float(input(\"Value of a: \"))\n",
    "b = float(input(\"Value of b: \"))\n",
    "\n",
    "sum = a+b\n",
    "print(\"The sum of a and b is\", sum)\n",
    "\n",
    "difference = a-b\n",
    "print(\"The difference when b is subtracted from a is\", difference)\n",
    "\n",
    "product = a*b\n",
    "print(\"The product of a and b is\", product)\n",
    "\n",
    "quotient = a/b\n",
    "print(\"The quotient when a is divided by b is\", quotient)\n",
    "\n",
    "remainder = a%b\n",
    "print(\"The remainder when a is divided by b is\", remainder)\n",
    "\n",
    "log10 = math.log10(a)\n",
    "print(\"The result of log10 a is\", log10)\n",
    "\n",
    "log10ab = math.log10(product)\n",
    "print(\"The result of ab is\", log10ab) #Assuming sir kay wala ko kasabot sa result of ab"
   ]
  },
  {
   "cell_type": "markdown",
   "metadata": {},
   "source": [
    "### Exercise 4: Area and Volume (15 Lines)"
   ]
  },
  {
   "cell_type": "markdown",
   "metadata": {},
   "source": [
    "Write a program that begins by reading a radius, r, from the user. The program will continue by computing and displaying the area of a circle with radius r and the volume of a sphere with radius r. Use the pi constant in the math module in your calculations."
   ]
  },
  {
   "cell_type": "code",
   "execution_count": 47,
   "metadata": {
    "scrolled": true
   },
   "outputs": [
    {
     "name": "stdout",
     "output_type": "stream",
     "text": [
      " The radius r of the circle is:4\n",
      "The area of the circle is 50.26548245743669\n",
      "The volume of the sphere is 268.082573106329\n"
     ]
    }
   ],
   "source": [
    "import math\n",
    "r = float(input(\" The radius r of the circle is:\"))\n",
    "area = math.pi*r**2\n",
    "Fraction = 4/3\n",
    "volume = Fraction*math.pi*r**3\n",
    "print(\"The area of the circle is\", area)\n",
    "print(\"The volume of the sphere is\", volume)"
   ]
  },
  {
   "cell_type": "markdown",
   "metadata": {},
   "source": []
  }
 ],
 "metadata": {
  "kernelspec": {
   "display_name": "Python 3",
   "language": "python",
   "name": "python3"
  },
  "language_info": {
   "codemirror_mode": {
    "name": "ipython",
    "version": 3
   },
   "file_extension": ".py",
   "mimetype": "text/x-python",
   "name": "python",
   "nbconvert_exporter": "python",
   "pygments_lexer": "ipython3",
   "version": "3.6.10"
  }
 },
 "nbformat": 4,
 "nbformat_minor": 2
}
